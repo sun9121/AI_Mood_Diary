{
  "nbformat": 4,
  "nbformat_minor": 5,
  "metadata": {
    "kernelspec": {
      "display_name": "Python 3",
      "language": "python",
      "name": "python3"
    },
    "language_info": {
      "codemirror_mode": {
        "name": "ipython",
        "version": 3
      },
      "file_extension": ".py",
      "mimetype": "text/x-python",
      "name": "python",
      "nbconvert_exporter": "python",
      "pygments_lexer": "ipython3",
      "version": "3.6.9"
    },
    "colab": {
      "name": "preprocessing_with_hanspell_kospacing.ipynb",
      "provenance": []
    }
  },
  "cells": [
    {
      "cell_type": "code",
      "metadata": {
        "scrolled": true,
        "id": "armed-delivery",
        "outputId": "84202afc-5358-490f-b535-b06bb8bdea24"
      },
      "source": [
        "import pandas as pd\n",
        "\n",
        "DF = pd.read_excel('one_off_conversation_sad.xlsx', engine='openpyxl') # 슬픔만 분류해둔 엑셀 파일 불러오기\n",
        "\n",
        "DF.info()"
      ],
      "id": "armed-delivery",
      "execution_count": null,
      "outputs": [
        {
          "output_type": "stream",
          "text": [
            "<class 'pandas.core.frame.DataFrame'>\n",
            "RangeIndex: 5267 entries, 0 to 5266\n",
            "Data columns (total 2 columns):\n",
            " #   Column    Non-Null Count  Dtype \n",
            "---  ------    --------------  ----- \n",
            " 0   sentence  5267 non-null   object\n",
            " 1   emotion   5267 non-null   object\n",
            "dtypes: object(2)\n",
            "memory usage: 82.4+ KB\n"
          ],
          "name": "stdout"
        }
      ]
    },
    {
      "cell_type": "code",
      "metadata": {
        "id": "broad-punch",
        "outputId": "6c211af7-5e92-469c-8f7e-0eac5079ac44"
      },
      "source": [
        "DF_answer = pd.read_excel('one_off_conversation_sad_answer.xlsx', engine='openpyxl')\n",
        "# 사람인 맞춤법 검사기 + 네이버 맞춤법 검사기 돌린 정답 파일 불러오기 (100문장만 처리했음)\n",
        "\n",
        "DF_answer.info()"
      ],
      "id": "broad-punch",
      "execution_count": null,
      "outputs": [
        {
          "output_type": "stream",
          "text": [
            "<class 'pandas.core.frame.DataFrame'>\n",
            "RangeIndex: 5267 entries, 0 to 5266\n",
            "Data columns (total 2 columns):\n",
            " #   Column    Non-Null Count  Dtype \n",
            "---  ------    --------------  ----- \n",
            " 0   sentence  5267 non-null   object\n",
            " 1   emotion   5267 non-null   object\n",
            "dtypes: object(2)\n",
            "memory usage: 82.4+ KB\n"
          ],
          "name": "stdout"
        }
      ]
    },
    {
      "cell_type": "code",
      "metadata": {
        "id": "thousand-bidding"
      },
      "source": [
        "sentence = pd.DataFrame() # 빈 데이터프레임 생성"
      ],
      "id": "thousand-bidding",
      "execution_count": null,
      "outputs": []
    },
    {
      "cell_type": "code",
      "metadata": {
        "id": "mobile-dominant",
        "outputId": "1b7d318e-199a-4347-8483-fd7caf6f73c3"
      },
      "source": [
        "sentence['original'] = DF['sentence'] # 불러온 엑셀에서 문장만 sentence 데이터프레임의 original 열에 추가\n",
        "\n",
        "sentence.head()"
      ],
      "id": "mobile-dominant",
      "execution_count": null,
      "outputs": [
        {
          "output_type": "execute_result",
          "data": {
            "text/html": [
              "<div>\n",
              "<style scoped>\n",
              "    .dataframe tbody tr th:only-of-type {\n",
              "        vertical-align: middle;\n",
              "    }\n",
              "\n",
              "    .dataframe tbody tr th {\n",
              "        vertical-align: top;\n",
              "    }\n",
              "\n",
              "    .dataframe thead th {\n",
              "        text-align: right;\n",
              "    }\n",
              "</style>\n",
              "<table border=\"1\" class=\"dataframe\">\n",
              "  <thead>\n",
              "    <tr style=\"text-align: right;\">\n",
              "      <th></th>\n",
              "      <th>original</th>\n",
              "    </tr>\n",
              "  </thead>\n",
              "  <tbody>\n",
              "    <tr>\n",
              "      <th>0</th>\n",
              "      <td>어깨라도넓엇으면 옷빨이라도 잘살텐데..</td>\n",
              "    </tr>\n",
              "    <tr>\n",
              "      <th>1</th>\n",
              "      <td>그저 보고싶어죽겟어요</td>\n",
              "    </tr>\n",
              "    <tr>\n",
              "      <th>2</th>\n",
              "      <td>아 진짜 저한테는 악운만 붙는거같네요ㅠㅠ........0</td>\n",
              "    </tr>\n",
              "    <tr>\n",
              "      <th>3</th>\n",
              "      <td>지금 계단에서울고있어요</td>\n",
              "    </tr>\n",
              "    <tr>\n",
              "      <th>4</th>\n",
              "      <td>저때문에 택배하나 배달하려다 변을 당하신건 아니겠죠0</td>\n",
              "    </tr>\n",
              "  </tbody>\n",
              "</table>\n",
              "</div>"
            ],
            "text/plain": [
              "                          original\n",
              "0            어깨라도넓엇으면 옷빨이라도 잘살텐데..\n",
              "1                      그저 보고싶어죽겟어요\n",
              "2  아 진짜 저한테는 악운만 붙는거같네요ㅠㅠ........0\n",
              "3                     지금 계단에서울고있어요\n",
              "4    저때문에 택배하나 배달하려다 변을 당하신건 아니겠죠0"
            ]
          },
          "metadata": {
            "tags": []
          },
          "execution_count": 9
        }
      ]
    },
    {
      "cell_type": "code",
      "metadata": {
        "id": "canadian-zambia"
      },
      "source": [
        "remove_empty = []\n",
        "\n",
        "for s in sentence['original']:\n",
        "    remove_empty.append(s.strip())"
      ],
      "id": "canadian-zambia",
      "execution_count": null,
      "outputs": []
    },
    {
      "cell_type": "code",
      "metadata": {
        "id": "japanese-juvenile"
      },
      "source": [
        "sentence['original'] = pd.DataFrame(remove_empty)"
      ],
      "id": "japanese-juvenile",
      "execution_count": null,
      "outputs": []
    },
    {
      "cell_type": "code",
      "metadata": {
        "scrolled": true,
        "id": "expressed-danish",
        "outputId": "66339d21-544f-436c-f100-99a92de6dc3c"
      },
      "source": [
        "sentence.head()"
      ],
      "id": "expressed-danish",
      "execution_count": null,
      "outputs": [
        {
          "output_type": "execute_result",
          "data": {
            "text/html": [
              "<div>\n",
              "<style scoped>\n",
              "    .dataframe tbody tr th:only-of-type {\n",
              "        vertical-align: middle;\n",
              "    }\n",
              "\n",
              "    .dataframe tbody tr th {\n",
              "        vertical-align: top;\n",
              "    }\n",
              "\n",
              "    .dataframe thead th {\n",
              "        text-align: right;\n",
              "    }\n",
              "</style>\n",
              "<table border=\"1\" class=\"dataframe\">\n",
              "  <thead>\n",
              "    <tr style=\"text-align: right;\">\n",
              "      <th></th>\n",
              "      <th>original</th>\n",
              "    </tr>\n",
              "  </thead>\n",
              "  <tbody>\n",
              "    <tr>\n",
              "      <th>0</th>\n",
              "      <td>어깨라도넓엇으면 옷빨이라도 잘살텐데..</td>\n",
              "    </tr>\n",
              "    <tr>\n",
              "      <th>1</th>\n",
              "      <td>그저 보고싶어죽겟어요</td>\n",
              "    </tr>\n",
              "    <tr>\n",
              "      <th>2</th>\n",
              "      <td>아 진짜 저한테는 악운만 붙는거같네요ㅠㅠ........0</td>\n",
              "    </tr>\n",
              "    <tr>\n",
              "      <th>3</th>\n",
              "      <td>지금 계단에서울고있어요</td>\n",
              "    </tr>\n",
              "    <tr>\n",
              "      <th>4</th>\n",
              "      <td>저때문에 택배하나 배달하려다 변을 당하신건 아니겠죠0</td>\n",
              "    </tr>\n",
              "  </tbody>\n",
              "</table>\n",
              "</div>"
            ],
            "text/plain": [
              "                          original\n",
              "0            어깨라도넓엇으면 옷빨이라도 잘살텐데..\n",
              "1                      그저 보고싶어죽겟어요\n",
              "2  아 진짜 저한테는 악운만 붙는거같네요ㅠㅠ........0\n",
              "3                     지금 계단에서울고있어요\n",
              "4    저때문에 택배하나 배달하려다 변을 당하신건 아니겠죠0"
            ]
          },
          "metadata": {
            "tags": []
          },
          "execution_count": 13
        }
      ]
    },
    {
      "cell_type": "code",
      "metadata": {
        "id": "precise-layer"
      },
      "source": [
        "remove_empty = []\n",
        "\n",
        "for s in DF_answer['sentence']:\n",
        "    remove_empty.append(s.strip())"
      ],
      "id": "precise-layer",
      "execution_count": null,
      "outputs": []
    },
    {
      "cell_type": "code",
      "metadata": {
        "id": "simplified-humidity"
      },
      "source": [
        "DF_answer['sentence'] = pd.DataFrame(remove_empty)"
      ],
      "id": "simplified-humidity",
      "execution_count": null,
      "outputs": []
    },
    {
      "cell_type": "code",
      "metadata": {
        "id": "biological-concert",
        "outputId": "029a58e3-3bf9-4c5c-943e-43732a18ee3e"
      },
      "source": [
        "%%time\n",
        "\n",
        "from hanspell import spell_checker\n",
        "\n",
        "hanspell_result = []\n",
        "\n",
        "for s in sentence['original']:\n",
        "    hanspell = spell_checker.check(s) # hanspell 활용하여 띄어쓰기 및 맞춤법 검사\n",
        "    hanspell_result.append(hanspell.checked)"
      ],
      "id": "biological-concert",
      "execution_count": null,
      "outputs": [
        {
          "output_type": "stream",
          "text": [
            "CPU times: user 12.7 s, sys: 215 ms, total: 12.9 s\n",
            "Wall time: 3min 19s\n"
          ],
          "name": "stdout"
        }
      ]
    },
    {
      "cell_type": "code",
      "metadata": {
        "id": "corrected-hearts"
      },
      "source": [
        "sentence['hanspell'] = pd.DataFrame(hanspell_result) # hanspell 결과 sentence 데이터프레임에 저장"
      ],
      "id": "corrected-hearts",
      "execution_count": null,
      "outputs": []
    },
    {
      "cell_type": "code",
      "metadata": {
        "id": "engaging-dakota",
        "outputId": "917aa8b1-5edb-48db-c165-aa2aafc06c51"
      },
      "source": [
        "%%time\n",
        "\n",
        "from pykospacing import spacing\n",
        "\n",
        "spacing_sentence = []\n",
        "\n",
        "for s in sentence['hanspell']:\n",
        "    kospacing_sentence = spacing(s) # pykospacing 활용하여 띄어쓰기\n",
        "    spacing_sentence.append(kospacing_sentence)"
      ],
      "id": "engaging-dakota",
      "execution_count": null,
      "outputs": [
        {
          "output_type": "stream",
          "text": [
            "CPU times: user 3min 35s, sys: 8.96 s, total: 3min 44s\n",
            "Wall time: 3min 33s\n"
          ],
          "name": "stdout"
        }
      ]
    },
    {
      "cell_type": "code",
      "metadata": {
        "id": "critical-outside"
      },
      "source": [
        "sentence['pykospacing'] = pd.DataFrame(spacing_sentence) # pykospacing 결과 sentence 데이터프레임에 저장"
      ],
      "id": "critical-outside",
      "execution_count": null,
      "outputs": []
    },
    {
      "cell_type": "code",
      "metadata": {
        "id": "equal-customs",
        "outputId": "14234667-94f3-4172-9016-0a2fbd791f94"
      },
      "source": [
        "answer_100 = DF_answer.iloc[:100].copy() # 100문장만 처리했기 때문에 100개만 자르기\n",
        "\n",
        "answer_100.tail()"
      ],
      "id": "equal-customs",
      "execution_count": null,
      "outputs": [
        {
          "output_type": "execute_result",
          "data": {
            "text/html": [
              "<div>\n",
              "<style scoped>\n",
              "    .dataframe tbody tr th:only-of-type {\n",
              "        vertical-align: middle;\n",
              "    }\n",
              "\n",
              "    .dataframe tbody tr th {\n",
              "        vertical-align: top;\n",
              "    }\n",
              "\n",
              "    .dataframe thead th {\n",
              "        text-align: right;\n",
              "    }\n",
              "</style>\n",
              "<table border=\"1\" class=\"dataframe\">\n",
              "  <thead>\n",
              "    <tr style=\"text-align: right;\">\n",
              "      <th></th>\n",
              "      <th>sentence</th>\n",
              "      <th>emotion</th>\n",
              "    </tr>\n",
              "  </thead>\n",
              "  <tbody>\n",
              "    <tr>\n",
              "      <th>95</th>\n",
              "      <td>혼자서 먹고 있다...</td>\n",
              "      <td>슬픔</td>\n",
              "    </tr>\n",
              "    <tr>\n",
              "      <th>96</th>\n",
              "      <td>이제 이 세상 살기 힘들어지는구나</td>\n",
              "      <td>슬픔</td>\n",
              "    </tr>\n",
              "    <tr>\n",
              "      <th>97</th>\n",
              "      <td>미래가 없네....</td>\n",
              "      <td>슬픔</td>\n",
              "    </tr>\n",
              "    <tr>\n",
              "      <th>98</th>\n",
              "      <td>먹고살기도 바쁜데 결혼은 할 수 있을까?</td>\n",
              "      <td>슬픔</td>\n",
              "    </tr>\n",
              "    <tr>\n",
              "      <th>99</th>\n",
              "      <td>생각만 해도 벌써 가슴이 먹먹하다</td>\n",
              "      <td>슬픔</td>\n",
              "    </tr>\n",
              "  </tbody>\n",
              "</table>\n",
              "</div>"
            ],
            "text/plain": [
              "                  sentence emotion\n",
              "95            혼자서 먹고 있다...      슬픔\n",
              "96      이제 이 세상 살기 힘들어지는구나      슬픔\n",
              "97              미래가 없네....      슬픔\n",
              "98  먹고살기도 바쁜데 결혼은 할 수 있을까?      슬픔\n",
              "99      생각만 해도 벌써 가슴이 먹먹하다      슬픔"
            ]
          },
          "metadata": {
            "tags": []
          },
          "execution_count": 20
        }
      ]
    },
    {
      "cell_type": "code",
      "metadata": {
        "id": "integral-dominant",
        "outputId": "937d5e95-fd6e-45c5-f61f-3cbb154f2420"
      },
      "source": [
        "sentence_100 = sentence.iloc[:100].copy() # 정답과 비교 위해 전처리한 데이터프레임도 100개만 자름\n",
        "\n",
        "sentence_100.tail()"
      ],
      "id": "integral-dominant",
      "execution_count": null,
      "outputs": [
        {
          "output_type": "execute_result",
          "data": {
            "text/html": [
              "<div>\n",
              "<style scoped>\n",
              "    .dataframe tbody tr th:only-of-type {\n",
              "        vertical-align: middle;\n",
              "    }\n",
              "\n",
              "    .dataframe tbody tr th {\n",
              "        vertical-align: top;\n",
              "    }\n",
              "\n",
              "    .dataframe thead th {\n",
              "        text-align: right;\n",
              "    }\n",
              "</style>\n",
              "<table border=\"1\" class=\"dataframe\">\n",
              "  <thead>\n",
              "    <tr style=\"text-align: right;\">\n",
              "      <th></th>\n",
              "      <th>original</th>\n",
              "      <th>hanspell</th>\n",
              "      <th>pykospacing</th>\n",
              "    </tr>\n",
              "  </thead>\n",
              "  <tbody>\n",
              "    <tr>\n",
              "      <th>95</th>\n",
              "      <td>혼자서 먹고있다...</td>\n",
              "      <td>혼자서 먹고 있다...</td>\n",
              "      <td>혼자서 먹고 있다...</td>\n",
              "    </tr>\n",
              "    <tr>\n",
              "      <th>96</th>\n",
              "      <td>이제 이세상 살기 힘들어지는구나</td>\n",
              "      <td>이제 이 세상 살기 힘들어지는구나</td>\n",
              "      <td>이제 이 세상 살기 힘들어지는구나</td>\n",
              "    </tr>\n",
              "    <tr>\n",
              "      <th>97</th>\n",
              "      <td>미래가 없네....</td>\n",
              "      <td>미래가 없네....</td>\n",
              "      <td>미래가 없네....</td>\n",
              "    </tr>\n",
              "    <tr>\n",
              "      <th>98</th>\n",
              "      <td>먹고 살기도 바쁜데 결혼은 할수 있을까?</td>\n",
              "      <td>먹고살기도 바쁜데 결혼은 할 수 있을까?</td>\n",
              "      <td>먹고 살기도 바쁜데 결혼은 할 수 있을까?</td>\n",
              "    </tr>\n",
              "    <tr>\n",
              "      <th>99</th>\n",
              "      <td>생각만 해도 벌써 가슴이 먹먹하다</td>\n",
              "      <td>생각만 해도 벌써 가슴이 먹먹하다</td>\n",
              "      <td>생각만 해도 벌써 가슴이 먹먹하다</td>\n",
              "    </tr>\n",
              "  </tbody>\n",
              "</table>\n",
              "</div>"
            ],
            "text/plain": [
              "                  original                hanspell              pykospacing\n",
              "95             혼자서 먹고있다...            혼자서 먹고 있다...             혼자서 먹고 있다...\n",
              "96       이제 이세상 살기 힘들어지는구나      이제 이 세상 살기 힘들어지는구나       이제 이 세상 살기 힘들어지는구나\n",
              "97              미래가 없네....              미래가 없네....               미래가 없네....\n",
              "98  먹고 살기도 바쁜데 결혼은 할수 있을까?  먹고살기도 바쁜데 결혼은 할 수 있을까?  먹고 살기도 바쁜데 결혼은 할 수 있을까?\n",
              "99      생각만 해도 벌써 가슴이 먹먹하다      생각만 해도 벌써 가슴이 먹먹하다       생각만 해도 벌써 가슴이 먹먹하다"
            ]
          },
          "metadata": {
            "tags": []
          },
          "execution_count": 21
        }
      ]
    },
    {
      "cell_type": "code",
      "metadata": {
        "id": "serious-mixer"
      },
      "source": [
        "sentence_100['hanspell_only_korean'] = sentence_100['hanspell'].str.replace('[^가-힣]', '') "
      ],
      "id": "serious-mixer",
      "execution_count": null,
      "outputs": []
    },
    {
      "cell_type": "code",
      "metadata": {
        "id": "presidential-norman"
      },
      "source": [
        "sentence_100['hanspell_with_num'] = sentence_100['hanspell'].str.replace('[^가-힣0-9]', '') "
      ],
      "id": "presidential-norman",
      "execution_count": null,
      "outputs": []
    },
    {
      "cell_type": "code",
      "metadata": {
        "id": "occupational-commercial"
      },
      "source": [
        "sentence_100['hanspell_with_alphabet'] = sentence_100['hanspell'].str.replace('[^가-힣0-9A-Za-z]', '') "
      ],
      "id": "occupational-commercial",
      "execution_count": null,
      "outputs": []
    },
    {
      "cell_type": "code",
      "metadata": {
        "id": "rising-witch"
      },
      "source": [
        "sentence_100['hanspell_with_everything'] = sentence_100['hanspell'].str.replace('[^가-힣0-9A-Za-zㄱ-ㅎㅏ-ㅣ]', '')"
      ],
      "id": "rising-witch",
      "execution_count": null,
      "outputs": []
    },
    {
      "cell_type": "code",
      "metadata": {
        "id": "rational-bride"
      },
      "source": [
        "answer_100['sentence_only_korean'] = answer_100['sentence'].str.replace('[^가-힣]', '')"
      ],
      "id": "rational-bride",
      "execution_count": null,
      "outputs": []
    },
    {
      "cell_type": "code",
      "metadata": {
        "id": "protecting-equivalent"
      },
      "source": [
        "answer_100['sentence_with_num'] = answer_100['sentence'].str.replace('[^가-힣0-9]', '')"
      ],
      "id": "protecting-equivalent",
      "execution_count": null,
      "outputs": []
    },
    {
      "cell_type": "code",
      "metadata": {
        "id": "preliminary-heading"
      },
      "source": [
        "answer_100['sentence_with_alphabet'] = answer_100['sentence'].str.replace('[^가-힣0-9A-Za-z]', '')"
      ],
      "id": "preliminary-heading",
      "execution_count": null,
      "outputs": []
    },
    {
      "cell_type": "code",
      "metadata": {
        "id": "independent-ceramic"
      },
      "source": [
        "answer_100['sentence_with_everything'] = answer_100['sentence'].str.replace('[^가-힣0-9A-Za-zㄱ-ㅎㅏ-ㅣ]', '')"
      ],
      "id": "independent-ceramic",
      "execution_count": null,
      "outputs": []
    },
    {
      "cell_type": "code",
      "metadata": {
        "id": "miniature-reasoning",
        "outputId": "2f310e54-1ae4-4a74-dc74-772ad6ba6c4a"
      },
      "source": [
        "sentence_100"
      ],
      "id": "miniature-reasoning",
      "execution_count": null,
      "outputs": [
        {
          "output_type": "execute_result",
          "data": {
            "text/html": [
              "<div>\n",
              "<style scoped>\n",
              "    .dataframe tbody tr th:only-of-type {\n",
              "        vertical-align: middle;\n",
              "    }\n",
              "\n",
              "    .dataframe tbody tr th {\n",
              "        vertical-align: top;\n",
              "    }\n",
              "\n",
              "    .dataframe thead th {\n",
              "        text-align: right;\n",
              "    }\n",
              "</style>\n",
              "<table border=\"1\" class=\"dataframe\">\n",
              "  <thead>\n",
              "    <tr style=\"text-align: right;\">\n",
              "      <th></th>\n",
              "      <th>original</th>\n",
              "      <th>hanspell</th>\n",
              "      <th>pykospacing</th>\n",
              "      <th>hanspell_only_korean</th>\n",
              "      <th>hanspell_with_num</th>\n",
              "      <th>hanspell_with_alphabet</th>\n",
              "      <th>hanspell_with_everything</th>\n",
              "    </tr>\n",
              "  </thead>\n",
              "  <tbody>\n",
              "    <tr>\n",
              "      <th>0</th>\n",
              "      <td>어깨라도넓엇으면 옷빨이라도 잘살텐데..</td>\n",
              "      <td>어깨라도 넓었으면 옷발이라도 잘 살 텐데..</td>\n",
              "      <td>어깨라도 넓었으면 옷 발이라도 잘 살 텐데..</td>\n",
              "      <td>어깨라도넓었으면옷발이라도잘살텐데</td>\n",
              "      <td>어깨라도넓었으면옷발이라도잘살텐데</td>\n",
              "      <td>어깨라도넓었으면옷발이라도잘살텐데</td>\n",
              "      <td>어깨라도넓었으면옷발이라도잘살텐데</td>\n",
              "    </tr>\n",
              "    <tr>\n",
              "      <th>1</th>\n",
              "      <td>그저 보고싶어죽겟어요</td>\n",
              "      <td>그저 보고 싶어 죽겠어요</td>\n",
              "      <td>그저 보고 싶어 죽겠어요</td>\n",
              "      <td>그저보고싶어죽겠어요</td>\n",
              "      <td>그저보고싶어죽겠어요</td>\n",
              "      <td>그저보고싶어죽겠어요</td>\n",
              "      <td>그저보고싶어죽겠어요</td>\n",
              "    </tr>\n",
              "    <tr>\n",
              "      <th>2</th>\n",
              "      <td>아 진짜 저한테는 악운만 붙는거같네요ㅠㅠ........0</td>\n",
              "      <td>아 진짜 저한테는 악운만 붙는거같네요ㅠㅠ........0</td>\n",
              "      <td>아 진짜 저한테는 악운만 붙는 거 같네요 ㅠㅠ........0</td>\n",
              "      <td>아진짜저한테는악운만붙는거같네요</td>\n",
              "      <td>아진짜저한테는악운만붙는거같네요0</td>\n",
              "      <td>아진짜저한테는악운만붙는거같네요0</td>\n",
              "      <td>아진짜저한테는악운만붙는거같네요ㅠㅠ0</td>\n",
              "    </tr>\n",
              "    <tr>\n",
              "      <th>3</th>\n",
              "      <td>지금 계단에서울고있어요</td>\n",
              "      <td>지금 계단에서 울고 있어요</td>\n",
              "      <td>지금 계단에서 울고 있어요</td>\n",
              "      <td>지금계단에서울고있어요</td>\n",
              "      <td>지금계단에서울고있어요</td>\n",
              "      <td>지금계단에서울고있어요</td>\n",
              "      <td>지금계단에서울고있어요</td>\n",
              "    </tr>\n",
              "    <tr>\n",
              "      <th>4</th>\n",
              "      <td>저때문에 택배하나 배달하려다 변을 당하신건 아니겠죠0</td>\n",
              "      <td>저 때문에 택배 하나 배달하려다 변을 당하신 건 아니겠죠 0</td>\n",
              "      <td>저 때문에 택배 하나 배달하려다 변을 당하신 건 아니겠죠 0</td>\n",
              "      <td>저때문에택배하나배달하려다변을당하신건아니겠죠</td>\n",
              "      <td>저때문에택배하나배달하려다변을당하신건아니겠죠0</td>\n",
              "      <td>저때문에택배하나배달하려다변을당하신건아니겠죠0</td>\n",
              "      <td>저때문에택배하나배달하려다변을당하신건아니겠죠0</td>\n",
              "    </tr>\n",
              "    <tr>\n",
              "      <th>...</th>\n",
              "      <td>...</td>\n",
              "      <td>...</td>\n",
              "      <td>...</td>\n",
              "      <td>...</td>\n",
              "      <td>...</td>\n",
              "      <td>...</td>\n",
              "      <td>...</td>\n",
              "    </tr>\n",
              "    <tr>\n",
              "      <th>95</th>\n",
              "      <td>혼자서 먹고있다...</td>\n",
              "      <td>혼자서 먹고 있다...</td>\n",
              "      <td>혼자서 먹고 있다...</td>\n",
              "      <td>혼자서먹고있다</td>\n",
              "      <td>혼자서먹고있다</td>\n",
              "      <td>혼자서먹고있다</td>\n",
              "      <td>혼자서먹고있다</td>\n",
              "    </tr>\n",
              "    <tr>\n",
              "      <th>96</th>\n",
              "      <td>이제 이세상 살기 힘들어지는구나</td>\n",
              "      <td>이제 이 세상 살기 힘들어지는구나</td>\n",
              "      <td>이제 이 세상 살기 힘들어지는구나</td>\n",
              "      <td>이제이세상살기힘들어지는구나</td>\n",
              "      <td>이제이세상살기힘들어지는구나</td>\n",
              "      <td>이제이세상살기힘들어지는구나</td>\n",
              "      <td>이제이세상살기힘들어지는구나</td>\n",
              "    </tr>\n",
              "    <tr>\n",
              "      <th>97</th>\n",
              "      <td>미래가 없네....</td>\n",
              "      <td>미래가 없네....</td>\n",
              "      <td>미래가 없네....</td>\n",
              "      <td>미래가없네</td>\n",
              "      <td>미래가없네</td>\n",
              "      <td>미래가없네</td>\n",
              "      <td>미래가없네</td>\n",
              "    </tr>\n",
              "    <tr>\n",
              "      <th>98</th>\n",
              "      <td>먹고 살기도 바쁜데 결혼은 할수 있을까?</td>\n",
              "      <td>먹고살기도 바쁜데 결혼은 할 수 있을까?</td>\n",
              "      <td>먹고 살기도 바쁜데 결혼은 할 수 있을까?</td>\n",
              "      <td>먹고살기도바쁜데결혼은할수있을까</td>\n",
              "      <td>먹고살기도바쁜데결혼은할수있을까</td>\n",
              "      <td>먹고살기도바쁜데결혼은할수있을까</td>\n",
              "      <td>먹고살기도바쁜데결혼은할수있을까</td>\n",
              "    </tr>\n",
              "    <tr>\n",
              "      <th>99</th>\n",
              "      <td>생각만 해도 벌써 가슴이 먹먹하다</td>\n",
              "      <td>생각만 해도 벌써 가슴이 먹먹하다</td>\n",
              "      <td>생각만 해도 벌써 가슴이 먹먹하다</td>\n",
              "      <td>생각만해도벌써가슴이먹먹하다</td>\n",
              "      <td>생각만해도벌써가슴이먹먹하다</td>\n",
              "      <td>생각만해도벌써가슴이먹먹하다</td>\n",
              "      <td>생각만해도벌써가슴이먹먹하다</td>\n",
              "    </tr>\n",
              "  </tbody>\n",
              "</table>\n",
              "<p>100 rows × 7 columns</p>\n",
              "</div>"
            ],
            "text/plain": [
              "                           original                           hanspell  \\\n",
              "0             어깨라도넓엇으면 옷빨이라도 잘살텐데..           어깨라도 넓었으면 옷발이라도 잘 살 텐데..   \n",
              "1                       그저 보고싶어죽겟어요                      그저 보고 싶어 죽겠어요   \n",
              "2   아 진짜 저한테는 악운만 붙는거같네요ㅠㅠ........0    아 진짜 저한테는 악운만 붙는거같네요ㅠㅠ........0   \n",
              "3                      지금 계단에서울고있어요                     지금 계단에서 울고 있어요   \n",
              "4     저때문에 택배하나 배달하려다 변을 당하신건 아니겠죠0  저 때문에 택배 하나 배달하려다 변을 당하신 건 아니겠죠 0   \n",
              "..                              ...                                ...   \n",
              "95                      혼자서 먹고있다...                       혼자서 먹고 있다...   \n",
              "96                이제 이세상 살기 힘들어지는구나                 이제 이 세상 살기 힘들어지는구나   \n",
              "97                       미래가 없네....                         미래가 없네....   \n",
              "98           먹고 살기도 바쁜데 결혼은 할수 있을까?             먹고살기도 바쁜데 결혼은 할 수 있을까?   \n",
              "99               생각만 해도 벌써 가슴이 먹먹하다                 생각만 해도 벌써 가슴이 먹먹하다   \n",
              "\n",
              "                           pykospacing     hanspell_only_korean  \\\n",
              "0            어깨라도 넓었으면 옷 발이라도 잘 살 텐데..        어깨라도넓었으면옷발이라도잘살텐데   \n",
              "1                        그저 보고 싶어 죽겠어요               그저보고싶어죽겠어요   \n",
              "2   아 진짜 저한테는 악운만 붙는 거 같네요 ㅠㅠ........0         아진짜저한테는악운만붙는거같네요   \n",
              "3                       지금 계단에서 울고 있어요              지금계단에서울고있어요   \n",
              "4    저 때문에 택배 하나 배달하려다 변을 당하신 건 아니겠죠 0  저때문에택배하나배달하려다변을당하신건아니겠죠   \n",
              "..                                 ...                      ...   \n",
              "95                        혼자서 먹고 있다...                  혼자서먹고있다   \n",
              "96                  이제 이 세상 살기 힘들어지는구나           이제이세상살기힘들어지는구나   \n",
              "97                          미래가 없네....                    미래가없네   \n",
              "98             먹고 살기도 바쁜데 결혼은 할 수 있을까?         먹고살기도바쁜데결혼은할수있을까   \n",
              "99                  생각만 해도 벌써 가슴이 먹먹하다           생각만해도벌써가슴이먹먹하다   \n",
              "\n",
              "           hanspell_with_num    hanspell_with_alphabet  \\\n",
              "0          어깨라도넓었으면옷발이라도잘살텐데         어깨라도넓었으면옷발이라도잘살텐데   \n",
              "1                 그저보고싶어죽겠어요                그저보고싶어죽겠어요   \n",
              "2          아진짜저한테는악운만붙는거같네요0         아진짜저한테는악운만붙는거같네요0   \n",
              "3                지금계단에서울고있어요               지금계단에서울고있어요   \n",
              "4   저때문에택배하나배달하려다변을당하신건아니겠죠0  저때문에택배하나배달하려다변을당하신건아니겠죠0   \n",
              "..                       ...                       ...   \n",
              "95                   혼자서먹고있다                   혼자서먹고있다   \n",
              "96            이제이세상살기힘들어지는구나            이제이세상살기힘들어지는구나   \n",
              "97                     미래가없네                     미래가없네   \n",
              "98          먹고살기도바쁜데결혼은할수있을까          먹고살기도바쁜데결혼은할수있을까   \n",
              "99            생각만해도벌써가슴이먹먹하다            생각만해도벌써가슴이먹먹하다   \n",
              "\n",
              "    hanspell_with_everything  \n",
              "0          어깨라도넓었으면옷발이라도잘살텐데  \n",
              "1                 그저보고싶어죽겠어요  \n",
              "2        아진짜저한테는악운만붙는거같네요ㅠㅠ0  \n",
              "3                지금계단에서울고있어요  \n",
              "4   저때문에택배하나배달하려다변을당하신건아니겠죠0  \n",
              "..                       ...  \n",
              "95                   혼자서먹고있다  \n",
              "96            이제이세상살기힘들어지는구나  \n",
              "97                     미래가없네  \n",
              "98          먹고살기도바쁜데결혼은할수있을까  \n",
              "99            생각만해도벌써가슴이먹먹하다  \n",
              "\n",
              "[100 rows x 7 columns]"
            ]
          },
          "metadata": {
            "tags": []
          },
          "execution_count": 65
        }
      ]
    },
    {
      "cell_type": "code",
      "metadata": {
        "id": "ethical-course",
        "outputId": "08e1089c-14e4-41e7-e6b5-b4b0bf43c5d6"
      },
      "source": [
        "answer_100"
      ],
      "id": "ethical-course",
      "execution_count": null,
      "outputs": [
        {
          "output_type": "execute_result",
          "data": {
            "text/html": [
              "<div>\n",
              "<style scoped>\n",
              "    .dataframe tbody tr th:only-of-type {\n",
              "        vertical-align: middle;\n",
              "    }\n",
              "\n",
              "    .dataframe tbody tr th {\n",
              "        vertical-align: top;\n",
              "    }\n",
              "\n",
              "    .dataframe thead th {\n",
              "        text-align: right;\n",
              "    }\n",
              "</style>\n",
              "<table border=\"1\" class=\"dataframe\">\n",
              "  <thead>\n",
              "    <tr style=\"text-align: right;\">\n",
              "      <th></th>\n",
              "      <th>sentence</th>\n",
              "      <th>emotion</th>\n",
              "      <th>sentence_only_korean</th>\n",
              "      <th>sentence_with_num</th>\n",
              "      <th>sentence_with_alphabet</th>\n",
              "      <th>sentence_with_everything</th>\n",
              "    </tr>\n",
              "  </thead>\n",
              "  <tbody>\n",
              "    <tr>\n",
              "      <th>0</th>\n",
              "      <td>어깨라도 넓었으면 옷발이라도 잘 살 텐데..</td>\n",
              "      <td>슬픔</td>\n",
              "      <td>어깨라도넓었으면옷발이라도잘살텐데</td>\n",
              "      <td>어깨라도넓었으면옷발이라도잘살텐데</td>\n",
              "      <td>어깨라도넓었으면옷발이라도잘살텐데</td>\n",
              "      <td>어깨라도넓었으면옷발이라도잘살텐데</td>\n",
              "    </tr>\n",
              "    <tr>\n",
              "      <th>1</th>\n",
              "      <td>그저 보고 싶어 죽겠어요</td>\n",
              "      <td>슬픔</td>\n",
              "      <td>그저보고싶어죽겠어요</td>\n",
              "      <td>그저보고싶어죽겠어요</td>\n",
              "      <td>그저보고싶어죽겠어요</td>\n",
              "      <td>그저보고싶어죽겠어요</td>\n",
              "    </tr>\n",
              "    <tr>\n",
              "      <th>2</th>\n",
              "      <td>아 진짜 저한테는 악운만 붙는 거 같네요. ㅠㅠ........</td>\n",
              "      <td>슬픔</td>\n",
              "      <td>아진짜저한테는악운만붙는거같네요</td>\n",
              "      <td>아진짜저한테는악운만붙는거같네요</td>\n",
              "      <td>아진짜저한테는악운만붙는거같네요</td>\n",
              "      <td>아진짜저한테는악운만붙는거같네요ㅠㅠ</td>\n",
              "    </tr>\n",
              "    <tr>\n",
              "      <th>3</th>\n",
              "      <td>지금 계단에서 울고 있어요</td>\n",
              "      <td>슬픔</td>\n",
              "      <td>지금계단에서울고있어요</td>\n",
              "      <td>지금계단에서울고있어요</td>\n",
              "      <td>지금계단에서울고있어요</td>\n",
              "      <td>지금계단에서울고있어요</td>\n",
              "    </tr>\n",
              "    <tr>\n",
              "      <th>4</th>\n",
              "      <td>저 때문에 택배 하나 배달하려다 변을 당하신 건 아니겠죠</td>\n",
              "      <td>슬픔</td>\n",
              "      <td>저때문에택배하나배달하려다변을당하신건아니겠죠</td>\n",
              "      <td>저때문에택배하나배달하려다변을당하신건아니겠죠</td>\n",
              "      <td>저때문에택배하나배달하려다변을당하신건아니겠죠</td>\n",
              "      <td>저때문에택배하나배달하려다변을당하신건아니겠죠</td>\n",
              "    </tr>\n",
              "    <tr>\n",
              "      <th>...</th>\n",
              "      <td>...</td>\n",
              "      <td>...</td>\n",
              "      <td>...</td>\n",
              "      <td>...</td>\n",
              "      <td>...</td>\n",
              "      <td>...</td>\n",
              "    </tr>\n",
              "    <tr>\n",
              "      <th>95</th>\n",
              "      <td>혼자서 먹고 있다...</td>\n",
              "      <td>슬픔</td>\n",
              "      <td>혼자서먹고있다</td>\n",
              "      <td>혼자서먹고있다</td>\n",
              "      <td>혼자서먹고있다</td>\n",
              "      <td>혼자서먹고있다</td>\n",
              "    </tr>\n",
              "    <tr>\n",
              "      <th>96</th>\n",
              "      <td>이제 이 세상 살기 힘들어지는구나</td>\n",
              "      <td>슬픔</td>\n",
              "      <td>이제이세상살기힘들어지는구나</td>\n",
              "      <td>이제이세상살기힘들어지는구나</td>\n",
              "      <td>이제이세상살기힘들어지는구나</td>\n",
              "      <td>이제이세상살기힘들어지는구나</td>\n",
              "    </tr>\n",
              "    <tr>\n",
              "      <th>97</th>\n",
              "      <td>미래가 없네....</td>\n",
              "      <td>슬픔</td>\n",
              "      <td>미래가없네</td>\n",
              "      <td>미래가없네</td>\n",
              "      <td>미래가없네</td>\n",
              "      <td>미래가없네</td>\n",
              "    </tr>\n",
              "    <tr>\n",
              "      <th>98</th>\n",
              "      <td>먹고살기도 바쁜데 결혼은 할 수 있을까?</td>\n",
              "      <td>슬픔</td>\n",
              "      <td>먹고살기도바쁜데결혼은할수있을까</td>\n",
              "      <td>먹고살기도바쁜데결혼은할수있을까</td>\n",
              "      <td>먹고살기도바쁜데결혼은할수있을까</td>\n",
              "      <td>먹고살기도바쁜데결혼은할수있을까</td>\n",
              "    </tr>\n",
              "    <tr>\n",
              "      <th>99</th>\n",
              "      <td>생각만 해도 벌써 가슴이 먹먹하다</td>\n",
              "      <td>슬픔</td>\n",
              "      <td>생각만해도벌써가슴이먹먹하다</td>\n",
              "      <td>생각만해도벌써가슴이먹먹하다</td>\n",
              "      <td>생각만해도벌써가슴이먹먹하다</td>\n",
              "      <td>생각만해도벌써가슴이먹먹하다</td>\n",
              "    </tr>\n",
              "  </tbody>\n",
              "</table>\n",
              "<p>100 rows × 6 columns</p>\n",
              "</div>"
            ],
            "text/plain": [
              "                              sentence emotion     sentence_only_korean  \\\n",
              "0             어깨라도 넓었으면 옷발이라도 잘 살 텐데..      슬픔        어깨라도넓었으면옷발이라도잘살텐데   \n",
              "1                        그저 보고 싶어 죽겠어요      슬픔               그저보고싶어죽겠어요   \n",
              "2   아 진짜 저한테는 악운만 붙는 거 같네요. ㅠㅠ........      슬픔         아진짜저한테는악운만붙는거같네요   \n",
              "3                       지금 계단에서 울고 있어요      슬픔              지금계단에서울고있어요   \n",
              "4      저 때문에 택배 하나 배달하려다 변을 당하신 건 아니겠죠      슬픔  저때문에택배하나배달하려다변을당하신건아니겠죠   \n",
              "..                                 ...     ...                      ...   \n",
              "95                        혼자서 먹고 있다...      슬픔                  혼자서먹고있다   \n",
              "96                  이제 이 세상 살기 힘들어지는구나      슬픔           이제이세상살기힘들어지는구나   \n",
              "97                          미래가 없네....      슬픔                    미래가없네   \n",
              "98              먹고살기도 바쁜데 결혼은 할 수 있을까?      슬픔         먹고살기도바쁜데결혼은할수있을까   \n",
              "99                  생각만 해도 벌써 가슴이 먹먹하다      슬픔           생각만해도벌써가슴이먹먹하다   \n",
              "\n",
              "          sentence_with_num   sentence_with_alphabet sentence_with_everything  \n",
              "0         어깨라도넓었으면옷발이라도잘살텐데        어깨라도넓었으면옷발이라도잘살텐데        어깨라도넓었으면옷발이라도잘살텐데  \n",
              "1                그저보고싶어죽겠어요               그저보고싶어죽겠어요               그저보고싶어죽겠어요  \n",
              "2          아진짜저한테는악운만붙는거같네요         아진짜저한테는악운만붙는거같네요       아진짜저한테는악운만붙는거같네요ㅠㅠ  \n",
              "3               지금계단에서울고있어요              지금계단에서울고있어요              지금계단에서울고있어요  \n",
              "4   저때문에택배하나배달하려다변을당하신건아니겠죠  저때문에택배하나배달하려다변을당하신건아니겠죠  저때문에택배하나배달하려다변을당하신건아니겠죠  \n",
              "..                      ...                      ...                      ...  \n",
              "95                  혼자서먹고있다                  혼자서먹고있다                  혼자서먹고있다  \n",
              "96           이제이세상살기힘들어지는구나           이제이세상살기힘들어지는구나           이제이세상살기힘들어지는구나  \n",
              "97                    미래가없네                    미래가없네                    미래가없네  \n",
              "98         먹고살기도바쁜데결혼은할수있을까         먹고살기도바쁜데결혼은할수있을까         먹고살기도바쁜데결혼은할수있을까  \n",
              "99           생각만해도벌써가슴이먹먹하다           생각만해도벌써가슴이먹먹하다           생각만해도벌써가슴이먹먹하다  \n",
              "\n",
              "[100 rows x 6 columns]"
            ]
          },
          "metadata": {
            "tags": []
          },
          "execution_count": 66
        }
      ]
    },
    {
      "cell_type": "code",
      "metadata": {
        "id": "intended-complaint",
        "outputId": "93162fee-e0cb-4074-ec1d-a915b268fa03"
      },
      "source": [
        "correct_original = 0\n",
        "\n",
        "for i in range(100):\n",
        "    if sentence_100['hanspell'][i] == answer_100['sentence'][i]: \n",
        "        correct_original += 1\n",
        "    else:\n",
        "        print(f\"{sentence_100['hanspell'][i]} <-> {answer_100['sentence'][i]}\")"
      ],
      "id": "intended-complaint",
      "execution_count": null,
      "outputs": [
        {
          "output_type": "stream",
          "text": [
            "아 진짜 저한테는 악운만 붙는거같네요ㅠㅠ........0 <-> 아 진짜 저한테는 악운만 붙는 거 같네요. ㅠㅠ........\n",
            "저 때문에 택배 하나 배달하려다 변을 당하신 건 아니겠죠 0 <-> 저 때문에 택배 하나 배달하려다 변을 당하신 건 아니겠죠\n",
            "잊은 줄 알았는데 잊을 수 있다고 생각했는데 갑자기 쏟아지는 눈물에  강남 한복판에서 주저앉게 되더라.. <-> 잊은 줄 알았는데 잊을 수 있다고 생각했는데 갑자기 쏟아지는 눈물에 강남 한복판에서 주저앉게 되더라..\n",
            "근데 같이 갈 사람이 없다는 게 안타깝네요.. ㅜㅜ <-> 근데 같이 갈 사람이 없다는 게 안타깝네요..ㅜㅜ\n",
            "유일하게 남은 게 그분 내의나 냉장고에 붙혀진 시 한 편이 고작입니다. <-> 유일하게 남은 게 그분 내의나 냉장고에 붙여진 시 한 편이 고작입니다.\n",
            "초등학생인데요 좋아하는 아이를 그만 접으려고요 <-> 초딩인데요 좋아하는 아이를 그만 접으려고요\n",
            "남자친구가 이번 달 말에 입대하는데 ㅠㅠ <-> 남친이 이번 달 말에 입대하는데 ㅠㅠ\n",
            "모쏠인데 어떻게 하면 연애할수있냐ㅠㅠ <-> 모쏠인데 어떻게 하면 연애 할 수 있냐ㅠㅠ\n",
            "그 눈빛을 난 잊을 수가 없어 오래됐는데... <-> 그 눈빛을 난 잊을 수가 없어 오래 됐는데...\n",
            "제 여자친구는 절 좋아하는 거 같지 않고... <-> 제 여친은 절 좋아하는 거 같지 않고...\n",
            "혼자 떨어져 있는 느낌이 들어서 활발하게 대하고 놀고 싶은데 그게 안돼요ᅲ <-> 혼자 떨어져 있는 느낌이 들어서 활발하게 대하고 놀고 싶은데 그게 안돼요ㅠ\n",
            "저는 아직까지 한 통의 전화 와 편지가 오지 않았네요ㅠ <-> 저는 아직까지 한 통의 전화와 편지가 오지 않았네요ㅠ\n",
            "흑 남자친구도 없고 회사는 너무 바쁘고.. <-> 흑 남친도 없고 회사는 너무 바쁘고..\n",
            "부상과 열악한 연습 환경, 온 국민의 기대의 부담감을 안고 얼마나 힘들었을까요... <-> 부상과 열악한 연습 환경, 온 국민의 기대 부담감을 안고 얼마나 힘들었을까요...\n",
            "어휴 아직도 화요일이라니..ㅠㅠ <-> 에휴 아직도 화요일이라니..ㅠㅠ\n",
            "곰신 분들 저는 어쩌면 좋을까요? ᅮᅮ <-> 곰신 분들 저는 어쩌면 좋을까요?ㅜㅜ\n",
            "하루에도 몇 번씩 추억에 심장이 쿵 하고 내려앉고 어느 특정한 날짜만 나와도 아 이때는 내가 너랑 헤어지기 전이였네 후였네 오 나뉜다. <-> 하루에도 몇 번씩 추억에 심장이 쿵 하고 내려앉고 어느 특정한 날짜만 나와도 아 이때는 내가 너랑 헤어지기 전이였네 후였네로 나뉜다.\n",
            "전 전 남자친구와 헤어졌을 때 정말 죽을 만큼 힘들었어요. <-> 전전남친과 헤어졌을 때 정말 죽을 만큼 힘들었어요.\n",
            "요즘 몸도 아프고 돈 나갈 때도 많아지고 안 그래도 힘든데 날씨까지 추워지니 지치네요 <-> 요즘 몸도 아프고 돈 나갈 데도 많아지고 안 그래도 힘든데 날씨까지 추워지니 지치네요\n",
            "친구들에게 남자친구 아이 갖고 싶다니까 미쳤대요 <-> 친구들에게 남친 아이 갖고 싶다니까 미쳤대요\n",
            "미래를 본다면 제가 훨씬 나을 수도 있지만 현재로썬 정말 힘드네요.. <-> 미래를 본다면 제가 훨씬 나을 수도 있지만 현재로선 정말 힘드네요..\n",
            "이 여자 아니면 다시는 여자친구 못 만날 거 같습니다. <-> 이 여자 아니면 다시는 여자친구 못 만날 것 같습니다.\n",
            "죽고 싶다는 생각 이 듭니다. <-> 죽고 싶다는 생각이 듭니다.\n",
            "서비스직은 임시공휴일에도 빨간 날에도 다일 한다 <-> 서비스직은 임시공휴일에도 빨간 날에도 다 일한다\n",
            "나이가 왜 이리 들어 보이는건지...ㅠㅠ <-> 나이가 왜 이리 들어 보이는 건지...ㅠㅠ\n",
            "주가가 곤두박질치고 있어요ㅜㅜ <-> 주가가 곤두박질치고 있어요 ㅜㅜ\n"
          ],
          "name": "stdout"
        }
      ]
    },
    {
      "cell_type": "code",
      "metadata": {
        "id": "excellent-endorsement",
        "outputId": "1764e876-88a8-4ce3-b598-d900851a29ec"
      },
      "source": [
        "correct_korean = 0\n",
        "\n",
        "for i in range(100):\n",
        "    if sentence_100['hanspell_only_korean'][i] == answer_100['sentence_only_korean'][i]: \n",
        "        correct_korean += 1\n",
        "    else:\n",
        "        print(f\"{sentence_100['hanspell_only_korean'][i]} <-> {answer_100['sentence_only_korean'][i]}\")"
      ],
      "id": "excellent-endorsement",
      "execution_count": null,
      "outputs": [
        {
          "output_type": "stream",
          "text": [
            "유일하게남은게그분내의나냉장고에붙혀진시한편이고작입니다 <-> 유일하게남은게그분내의나냉장고에붙여진시한편이고작입니다\n",
            "초등학생인데요좋아하는아이를그만접으려고요 <-> 초딩인데요좋아하는아이를그만접으려고요\n",
            "남자친구가이번달말에입대하는데 <-> 남친이이번달말에입대하는데\n",
            "제여자친구는절좋아하는거같지않고 <-> 제여친은절좋아하는거같지않고\n",
            "흑남자친구도없고회사는너무바쁘고 <-> 흑남친도없고회사는너무바쁘고\n",
            "부상과열악한연습환경온국민의기대의부담감을안고얼마나힘들었을까요 <-> 부상과열악한연습환경온국민의기대부담감을안고얼마나힘들었을까요\n",
            "어휴아직도화요일이라니 <-> 에휴아직도화요일이라니\n",
            "하루에도몇번씩추억에심장이쿵하고내려앉고어느특정한날짜만나와도아이때는내가너랑헤어지기전이였네후였네오나뉜다 <-> 하루에도몇번씩추억에심장이쿵하고내려앉고어느특정한날짜만나와도아이때는내가너랑헤어지기전이였네후였네로나뉜다\n",
            "전전남자친구와헤어졌을때정말죽을만큼힘들었어요 <-> 전전남친과헤어졌을때정말죽을만큼힘들었어요\n",
            "요즘몸도아프고돈나갈때도많아지고안그래도힘든데날씨까지추워지니지치네요 <-> 요즘몸도아프고돈나갈데도많아지고안그래도힘든데날씨까지추워지니지치네요\n",
            "친구들에게남자친구아이갖고싶다니까미쳤대요 <-> 친구들에게남친아이갖고싶다니까미쳤대요\n",
            "미래를본다면제가훨씬나을수도있지만현재로썬정말힘드네요 <-> 미래를본다면제가훨씬나을수도있지만현재로선정말힘드네요\n",
            "이여자아니면다시는여자친구못만날거같습니다 <-> 이여자아니면다시는여자친구못만날것같습니다\n"
          ],
          "name": "stdout"
        }
      ]
    },
    {
      "cell_type": "code",
      "metadata": {
        "id": "signal-minister",
        "outputId": "87a47cf5-7178-46bf-db61-92f630ad47d2"
      },
      "source": [
        "correct_num = 0\n",
        "\n",
        "for i in range(100):\n",
        "    if sentence_100['hanspell_with_num'][i] == answer_100['sentence_with_num'][i]: \n",
        "        correct_num += 1\n",
        "    else:\n",
        "        print(f\"{sentence_100['hanspell_with_num'][i]} <-> {answer_100['sentence_with_num'][i]}\")"
      ],
      "id": "signal-minister",
      "execution_count": null,
      "outputs": [
        {
          "output_type": "stream",
          "text": [
            "아진짜저한테는악운만붙는거같네요0 <-> 아진짜저한테는악운만붙는거같네요\n",
            "저때문에택배하나배달하려다변을당하신건아니겠죠0 <-> 저때문에택배하나배달하려다변을당하신건아니겠죠\n",
            "유일하게남은게그분내의나냉장고에붙혀진시한편이고작입니다 <-> 유일하게남은게그분내의나냉장고에붙여진시한편이고작입니다\n",
            "초등학생인데요좋아하는아이를그만접으려고요 <-> 초딩인데요좋아하는아이를그만접으려고요\n",
            "남자친구가이번달말에입대하는데 <-> 남친이이번달말에입대하는데\n",
            "제여자친구는절좋아하는거같지않고 <-> 제여친은절좋아하는거같지않고\n",
            "흑남자친구도없고회사는너무바쁘고 <-> 흑남친도없고회사는너무바쁘고\n",
            "부상과열악한연습환경온국민의기대의부담감을안고얼마나힘들었을까요 <-> 부상과열악한연습환경온국민의기대부담감을안고얼마나힘들었을까요\n",
            "어휴아직도화요일이라니 <-> 에휴아직도화요일이라니\n",
            "하루에도몇번씩추억에심장이쿵하고내려앉고어느특정한날짜만나와도아이때는내가너랑헤어지기전이였네후였네오나뉜다 <-> 하루에도몇번씩추억에심장이쿵하고내려앉고어느특정한날짜만나와도아이때는내가너랑헤어지기전이였네후였네로나뉜다\n",
            "전전남자친구와헤어졌을때정말죽을만큼힘들었어요 <-> 전전남친과헤어졌을때정말죽을만큼힘들었어요\n",
            "요즘몸도아프고돈나갈때도많아지고안그래도힘든데날씨까지추워지니지치네요 <-> 요즘몸도아프고돈나갈데도많아지고안그래도힘든데날씨까지추워지니지치네요\n",
            "친구들에게남자친구아이갖고싶다니까미쳤대요 <-> 친구들에게남친아이갖고싶다니까미쳤대요\n",
            "미래를본다면제가훨씬나을수도있지만현재로썬정말힘드네요 <-> 미래를본다면제가훨씬나을수도있지만현재로선정말힘드네요\n",
            "이여자아니면다시는여자친구못만날거같습니다 <-> 이여자아니면다시는여자친구못만날것같습니다\n"
          ],
          "name": "stdout"
        }
      ]
    },
    {
      "cell_type": "code",
      "metadata": {
        "id": "another-finish",
        "outputId": "a1e524c2-fd75-47f1-9b31-0c1242ceea14"
      },
      "source": [
        "correct_alphabet = 0\n",
        "\n",
        "for i in range(100):\n",
        "    if sentence_100['hanspell_with_alphabet'][i] == answer_100['sentence_with_alphabet'][i]: \n",
        "        correct_alphabet += 1\n",
        "    else:\n",
        "        print(f\"{sentence_100['hanspell_with_alphabet'][i]} <-> {answer_100['sentence_with_alphabet'][i]}\")"
      ],
      "id": "another-finish",
      "execution_count": null,
      "outputs": [
        {
          "output_type": "stream",
          "text": [
            "아진짜저한테는악운만붙는거같네요0 <-> 아진짜저한테는악운만붙는거같네요\n",
            "저때문에택배하나배달하려다변을당하신건아니겠죠0 <-> 저때문에택배하나배달하려다변을당하신건아니겠죠\n",
            "유일하게남은게그분내의나냉장고에붙혀진시한편이고작입니다 <-> 유일하게남은게그분내의나냉장고에붙여진시한편이고작입니다\n",
            "초등학생인데요좋아하는아이를그만접으려고요 <-> 초딩인데요좋아하는아이를그만접으려고요\n",
            "남자친구가이번달말에입대하는데 <-> 남친이이번달말에입대하는데\n",
            "제여자친구는절좋아하는거같지않고 <-> 제여친은절좋아하는거같지않고\n",
            "흑남자친구도없고회사는너무바쁘고 <-> 흑남친도없고회사는너무바쁘고\n",
            "부상과열악한연습환경온국민의기대의부담감을안고얼마나힘들었을까요 <-> 부상과열악한연습환경온국민의기대부담감을안고얼마나힘들었을까요\n",
            "어휴아직도화요일이라니 <-> 에휴아직도화요일이라니\n",
            "하루에도몇번씩추억에심장이쿵하고내려앉고어느특정한날짜만나와도아이때는내가너랑헤어지기전이였네후였네오나뉜다 <-> 하루에도몇번씩추억에심장이쿵하고내려앉고어느특정한날짜만나와도아이때는내가너랑헤어지기전이였네후였네로나뉜다\n",
            "전전남자친구와헤어졌을때정말죽을만큼힘들었어요 <-> 전전남친과헤어졌을때정말죽을만큼힘들었어요\n",
            "요즘몸도아프고돈나갈때도많아지고안그래도힘든데날씨까지추워지니지치네요 <-> 요즘몸도아프고돈나갈데도많아지고안그래도힘든데날씨까지추워지니지치네요\n",
            "친구들에게남자친구아이갖고싶다니까미쳤대요 <-> 친구들에게남친아이갖고싶다니까미쳤대요\n",
            "미래를본다면제가훨씬나을수도있지만현재로썬정말힘드네요 <-> 미래를본다면제가훨씬나을수도있지만현재로선정말힘드네요\n",
            "이여자아니면다시는여자친구못만날거같습니다 <-> 이여자아니면다시는여자친구못만날것같습니다\n"
          ],
          "name": "stdout"
        }
      ]
    },
    {
      "cell_type": "code",
      "metadata": {
        "id": "baking-handy",
        "outputId": "3b457db9-01f4-46db-dff8-3f67f01be58c"
      },
      "source": [
        "correct_kospacing = 0\n",
        "\n",
        "for i in range(100):\n",
        "    if sentence_100['pykospacing'][i] == answer_100['sentence'][i]: \n",
        "        correct_kospacing += 1\n",
        "    else:\n",
        "        print(f\"{sentence_100['pykospacing'][i]}\\n{answer_100['sentence'][i]}\")\n",
        "        print()"
      ],
      "id": "baking-handy",
      "execution_count": null,
      "outputs": [
        {
          "output_type": "stream",
          "text": [
            "어깨라도 넓었으면 옷 발이라도 잘 살 텐데..\n",
            "어깨라도 넓었으면 옷발이라도 잘 살 텐데..\n",
            "\n",
            "아 진짜 저한테는 악운만 붙는 거 같네요 ㅠㅠ........0\n",
            "아 진짜 저한테는 악운만 붙는 거 같네요. ㅠㅠ........\n",
            "\n",
            "저 때문에 택배 하나 배달하려다 변을 당하신 건 아니겠죠 0\n",
            "저 때문에 택배 하나 배달하려다 변을 당하신 건 아니겠죠\n",
            "\n",
            "근데 같이 갈 사람이 없다는 게 안타깝네요.. ㅜㅜ\n",
            "근데 같이 갈 사람이 없다는 게 안타깝네요..ㅜㅜ\n",
            "\n",
            "유일하게 남은 게 그분 내의 나 냉장고에 붙혀진 시 한 편이 고작입니다.\n",
            "유일하게 남은 게 그분 내의나 냉장고에 붙여진 시 한 편이 고작입니다.\n",
            "\n",
            "초등학생인데요 좋아하는 아이를 그만 접으려고요\n",
            "초딩인데요 좋아하는 아이를 그만 접으려고요\n",
            "\n",
            "남자친구가 이번 달 말에 입대하는데 ㅠㅠ\n",
            "남친이 이번 달 말에 입대하는데 ㅠㅠ\n",
            "\n",
            "콧방울이 너무 못 생겼어 ㅜㅜ\n",
            "콧방울이 너무 못생겼어 ㅜㅜ\n",
            "\n",
            "모쏠인데 어떻게 하면 연애할 수 있냐 ㅠㅠ\n",
            "모쏠인데 어떻게 하면 연애 할 수 있냐ㅠㅠ\n",
            "\n",
            "그 눈빛을 난 잊을 수가 없어 오래됐는데...\n",
            "그 눈빛을 난 잊을 수가 없어 오래 됐는데...\n",
            "\n",
            "제 여자친구는 절 좋아하는 거 같지 않고...\n",
            "제 여친은 절 좋아하는 거 같지 않고...\n",
            "\n",
            "혼자 떨어져 있는 느낌이 들어서 활발하게 대하고 놀고 싶은데 그게 안 돼요ᅲ\n",
            "혼자 떨어져 있는 느낌이 들어서 활발하게 대하고 놀고 싶은데 그게 안돼요ㅠ\n",
            "\n",
            "저는 아직까지 한 통의 전화 와 편지가 오지 않았네요ㅠ\n",
            "저는 아직까지 한 통의 전화와 편지가 오지 않았네요ㅠ\n",
            "\n",
            "흑 남자친구도 없고 회사는 너무 바쁘고..\n",
            "흑 남친도 없고 회사는 너무 바쁘고..\n",
            "\n",
            "부상과 열악한 연습 환경, 온 국민의 기대의 부담감을 안고 얼마나 힘들었을까요...\n",
            "부상과 열악한 연습 환경, 온 국민의 기대 부담감을 안고 얼마나 힘들었을까요...\n",
            "\n",
            "어휴 아직도 화요일이라니..ㅠㅠ\n",
            "에휴 아직도 화요일이라니..ㅠㅠ\n",
            "\n",
            "야구의 전설 중의 전설 최동원 님께서 암 투병 중에 별세 하심에 애도를 표합니다.\n",
            "야구의 전설 중의 전설 최동원 님께서 암 투병 중에 별세하심에 애도를 표합니다.\n",
            "\n",
            "곰신 분들 저는 어쩌면 좋을까요? ᅮᅮ\n",
            "곰신 분들 저는 어쩌면 좋을까요?ㅜㅜ\n",
            "\n",
            "하루에도 몇 번씩 추억에 심장이 쿵 하고 내려 앉고 어느 특정한 날짜만 나와도 아 이 때는 내가 너랑 헤어지기 전이였네 후였네 오 나뉜다.\n",
            "하루에도 몇 번씩 추억에 심장이 쿵 하고 내려앉고 어느 특정한 날짜만 나와도 아 이때는 내가 너랑 헤어지기 전이였네 후였네로 나뉜다.\n",
            "\n",
            "예전에 서로 좋아했는데 그땐 서로 몰랐고 결국 잘 안 됐는데 걔가 날 좋아한 걸 지금 알게 됐어\n",
            "예전에 서로 좋아했는데 그땐 서로 몰랐고 결국 잘 안됐는데 걔가 날 좋아한 걸 지금 알게 됐어\n",
            "\n",
            "저 이 제 어떻게 살아가야 함?..\n",
            "저 이제 어떻게 살아가야 함?..\n",
            "\n",
            "뭐 좋다는 남자도 없는데 그냥 다 내려놓고 살까 봐요 ㅠㅠ 서글프다......\n",
            "뭐 좋다는 남자도 없는데 그냥 다 내려놓고 살까 봐요 ㅠㅠ서글프다......\n",
            "\n",
            "그냥 내 속에서 아름답게 머무르지 왜 연락은 해서 우스 워져…\n",
            "그냥 내 속에서 아름답게 머무르지 왜 연락은 해서 우스워져…\n",
            "\n",
            "전 전 남자친구와 헤어졌을 때 정말 죽을 만큼 힘들었어요.\n",
            "전전남친과 헤어졌을 때 정말 죽을 만큼 힘들었어요.\n",
            "\n",
            "요즘 몸도 아프고 돈 나갈 때도 많아지고 안 그래도 힘든데 날씨까지 추워지니 지치네요\n",
            "요즘 몸도 아프고 돈 나갈 데도 많아지고 안 그래도 힘든데 날씨까지 추워지니 지치네요\n",
            "\n",
            "친구들에게 남자친구 아이 갖고 싶다니까 미쳤대요\n",
            "친구들에게 남친 아이 갖고 싶다니까 미쳤대요\n",
            "\n",
            "모든 걸 허무로 돌릴 수 있을 만큼 부질 없더라.\n",
            "모든 걸 허무로 돌릴 수 있을 만큼 부질없더라.\n",
            "\n",
            "미래를 본다면 제가 훨씬 나을 수도 있지만 현재 로썬 정말 힘드네요..\n",
            "미래를 본다면 제가 훨씬 나을 수도 있지만 현재로선 정말 힘드네요..\n",
            "\n",
            "제 운도 여기까지 인 듯 ㅠㅠ\n",
            "제 운도 여기까지 인듯ㅠㅠ\n",
            "\n",
            "맨날 혼자 보러 다녀 요 ㅠㅠㅠ\n",
            "맨날 혼자 보러 다녀요 ㅠㅠㅠ\n",
            "\n",
            "사실 제가 좀 못생겨서 예전에 소개팅 때도 많이 퇴짜 먹은 편인데 이 제 좀 벗어나 고 싶어요 ㅜㅜ\n",
            "사실 제가 좀 못생겨서 예전에 소개팅 때도 많이 퇴짜 먹은 편인데 이제 좀 벗어나고 싶어요 ㅜㅜ\n",
            "\n",
            "아놔~인생이 암울하다 ㅠ\n",
            "아놔~인생이 암울하다ㅠ\n",
            "\n",
            "이 여자 아니면 다시는 여 자친구 못 만날 거 같습니다.\n",
            "이 여자 아니면 다시는 여자친구 못 만날 것 같습니다.\n",
            "\n",
            "나는 항상 버림 받는 존재\n",
            "나는 항상 버림받는 존재\n",
            "\n",
            "죽고 싶다는 생각 이 듭니다.\n",
            "죽고 싶다는 생각이 듭니다.\n",
            "\n",
            "세상이 살 기 힘드니 혼자 살아가는 사람이 늘어난다\n",
            "세상이 살기 힘드니 혼자 살아가는 사람이 늘어난다\n",
            "\n",
            "명절에 저렇게 내려 갈 고향이 있어서 좋겠다….\n",
            "명절에 저렇게 내려갈 고향이 있어서 좋겠다….\n",
            "\n",
            "서비스직은 임시공휴일에도 빨간 날에도 다일 한다\n",
            "서비스직은 임시공휴일에도 빨간 날에도 다 일한다\n",
            "\n",
            "요즘 참 먹고 살기 힘들 다니깐.....\n",
            "요즘 참 먹고살기 힘들다니깐.....\n",
            "\n",
            "나이가 왜 이 리 들어 보이는 건지...ㅠㅠ\n",
            "나이가 왜 이리 들어 보이는 건지...ㅠㅠ\n",
            "\n",
            "주가가 곤 두박질치고 있어요ㅜㅜ\n",
            "주가가 곤두박질치고 있어요 ㅜㅜ\n",
            "\n",
            "아이를 이 무서운 세상에 태어나게 해도 되나 싶네요 ㅜㅠ\n",
            "아이를 이 무서운 세상에 태어나게 해도 되나 싶네요ㅜㅠ\n",
            "\n",
            "광화문 4시부터 9시까지 시 위하다가 이 제 집 가는데 힘듦 ㅠㅠ\n",
            "광화문 4시부터 9시까지 시위하다가 이제 집 가는데 힘듦 ㅠㅠ\n",
            "\n",
            "먹고 살기도 바쁜데 결혼은 할 수 있을까?\n",
            "먹고살기도 바쁜데 결혼은 할 수 있을까?\n",
            "\n"
          ],
          "name": "stdout"
        }
      ]
    },
    {
      "cell_type": "code",
      "metadata": {
        "id": "bibliographic-agenda",
        "outputId": "e2c50f2d-fe15-4070-f466-7b3c93726d4b"
      },
      "source": [
        "correct_everything = 0\n",
        "\n",
        "for i in range(100):\n",
        "    if sentence_100['hanspell_with_everything'][i] == answer_100['sentence_with_everything'][i]: \n",
        "        correct_everything += 1\n",
        "    else:\n",
        "        print(f\"{sentence_100['hanspell_with_everything'][i]}\\n{answer_100['sentence_with_everything'][i]}\")\n",
        "        print()"
      ],
      "id": "bibliographic-agenda",
      "execution_count": null,
      "outputs": [
        {
          "output_type": "stream",
          "text": [
            "아진짜저한테는악운만붙는거같네요ㅠㅠ0\n",
            "아진짜저한테는악운만붙는거같네요ㅠㅠ\n",
            "\n",
            "저때문에택배하나배달하려다변을당하신건아니겠죠0\n",
            "저때문에택배하나배달하려다변을당하신건아니겠죠\n",
            "\n",
            "유일하게남은게그분내의나냉장고에붙혀진시한편이고작입니다\n",
            "유일하게남은게그분내의나냉장고에붙여진시한편이고작입니다\n",
            "\n",
            "초등학생인데요좋아하는아이를그만접으려고요\n",
            "초딩인데요좋아하는아이를그만접으려고요\n",
            "\n",
            "남자친구가이번달말에입대하는데ㅠㅠ\n",
            "남친이이번달말에입대하는데ㅠㅠ\n",
            "\n",
            "제여자친구는절좋아하는거같지않고\n",
            "제여친은절좋아하는거같지않고\n",
            "\n",
            "혼자떨어져있는느낌이들어서활발하게대하고놀고싶은데그게안돼요\n",
            "혼자떨어져있는느낌이들어서활발하게대하고놀고싶은데그게안돼요ㅠ\n",
            "\n",
            "흑남자친구도없고회사는너무바쁘고\n",
            "흑남친도없고회사는너무바쁘고\n",
            "\n",
            "부상과열악한연습환경온국민의기대의부담감을안고얼마나힘들었을까요\n",
            "부상과열악한연습환경온국민의기대부담감을안고얼마나힘들었을까요\n",
            "\n",
            "어휴아직도화요일이라니ㅠㅠ\n",
            "에휴아직도화요일이라니ㅠㅠ\n",
            "\n",
            "곰신분들저는어쩌면좋을까요\n",
            "곰신분들저는어쩌면좋을까요ㅜㅜ\n",
            "\n",
            "하루에도몇번씩추억에심장이쿵하고내려앉고어느특정한날짜만나와도아이때는내가너랑헤어지기전이였네후였네오나뉜다\n",
            "하루에도몇번씩추억에심장이쿵하고내려앉고어느특정한날짜만나와도아이때는내가너랑헤어지기전이였네후였네로나뉜다\n",
            "\n",
            "전전남자친구와헤어졌을때정말죽을만큼힘들었어요\n",
            "전전남친과헤어졌을때정말죽을만큼힘들었어요\n",
            "\n",
            "요즘몸도아프고돈나갈때도많아지고안그래도힘든데날씨까지추워지니지치네요\n",
            "요즘몸도아프고돈나갈데도많아지고안그래도힘든데날씨까지추워지니지치네요\n",
            "\n",
            "친구들에게남자친구아이갖고싶다니까미쳤대요\n",
            "친구들에게남친아이갖고싶다니까미쳤대요\n",
            "\n",
            "미래를본다면제가훨씬나을수도있지만현재로썬정말힘드네요\n",
            "미래를본다면제가훨씬나을수도있지만현재로선정말힘드네요\n",
            "\n",
            "이여자아니면다시는여자친구못만날거같습니다\n",
            "이여자아니면다시는여자친구못만날것같습니다\n",
            "\n"
          ],
          "name": "stdout"
        }
      ]
    },
    {
      "cell_type": "code",
      "metadata": {
        "id": "single-merchant",
        "outputId": "49c4b9ac-62a9-4245-e167-1b7ebabb908e"
      },
      "source": [
        "print(f'{correct_original / 100}')\n",
        "print(f'{correct_korean / 100}')\n",
        "print(f'{correct_num / 100}')\n",
        "print(f'{correct_alphabet / 100}')\n",
        "print(f'{correct_kospacing / 100}')\n",
        "print(f'{correct_everything / 100}')"
      ],
      "id": "single-merchant",
      "execution_count": null,
      "outputs": [
        {
          "output_type": "stream",
          "text": [
            "0.74\n",
            "0.87\n",
            "0.85\n",
            "0.85\n",
            "0.56\n",
            "0.83\n"
          ],
          "name": "stdout"
        }
      ]
    },
    {
      "cell_type": "code",
      "metadata": {
        "id": "waiting-notification"
      },
      "source": [
        ""
      ],
      "id": "waiting-notification",
      "execution_count": null,
      "outputs": []
    },
    {
      "cell_type": "code",
      "metadata": {
        "id": "residential-journalism"
      },
      "source": [
        ""
      ],
      "id": "residential-journalism",
      "execution_count": null,
      "outputs": []
    }
  ]
}